{
 "cells": [
  {
   "cell_type": "code",
   "execution_count": 56,
   "metadata": {},
   "outputs": [
    {
     "name": "stdout",
     "output_type": "stream",
     "text": [
      "101\n",
      "palindrome\n"
     ]
    }
   ],
   "source": [
    "from math import log10\n",
    "\n",
    "def reverseNumber(number):\n",
    "    reversedNumber = 0\n",
    "    \n",
    "    while (number != 0):\n",
    "        reversedNumber *= 10\n",
    "        reversedNumber += number % 10\n",
    "        number //= 10\n",
    "    return reversedNumber\n",
    "\n",
    "number = int(input())\n",
    "\n",
    "if (number >= 0 and reverseNumber(number) == number):\n",
    "    print(\"palindrome\")\n",
    "else:\n",
    "    print(\"not palindrome\")\n"
   ]
  },
  {
   "cell_type": "code",
   "execution_count": null,
   "metadata": {},
   "outputs": [],
   "source": []
  }
 ],
 "metadata": {
  "kernelspec": {
   "display_name": "Python 3",
   "language": "python",
   "name": "python3"
  },
  "language_info": {
   "codemirror_mode": {
    "name": "ipython",
    "version": 3
   },
   "file_extension": ".py",
   "mimetype": "text/x-python",
   "name": "python",
   "nbconvert_exporter": "python",
   "pygments_lexer": "ipython3",
   "version": "3.8.5"
  }
 },
 "nbformat": 4,
 "nbformat_minor": 4
}
